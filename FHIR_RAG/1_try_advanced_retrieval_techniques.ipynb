{
 "cells": [
  {
   "cell_type": "markdown",
   "id": "acf2a437",
   "metadata": {},
   "source": [
    "This playbook is inspired by lessons in [Advanced Retrieval for AI with Chroma](https://learn.deeplearning.ai/courses/advanced-retrieval-for-ai/)"
   ]
  },
  {
   "cell_type": "markdown",
   "id": "9dc9a6af",
   "metadata": {},
   "source": [
    "## Setup"
   ]
  },
  {
   "cell_type": "code",
   "execution_count": null,
   "id": "533a4cc6",
   "metadata": {},
   "outputs": [],
   "source": [
    "# Document Loading\n",
    "import glob\n",
    "from langchain_community.document_loaders import JSONLoader\n",
    "\n",
    "FHIR_BUNDLE_JQ_SCHEMA = \".entry[]\"\n",
    "FHIR_BUNDLE_CONTENT_KEY = \".resource\"\n",
    "\n",
    "synthea_bundles = glob.glob(\"../fhir/*.json\")\n",
    "\n",
    "loaders = [\n",
    "    JSONLoader(\n",
    "        file_path=xpath,\n",
    "        jq_schema=FHIR_BUNDLE_JQ_SCHEMA,\n",
    "        content_key=FHIR_BUNDLE_CONTENT_KEY,\n",
    "        is_content_key_jq_parsable=True,\n",
    "        text_content=False\n",
    "    )\n",
    "    for xpath in synthea_bundles\n",
    "]\n",
    "\n",
    "docs = []\n",
    "for loader in loaders:\n",
    "    docs.extend(loader.load())\n",
    "print(len(docs))\n",
    "print(docs[5])"
   ]
  },
  {
   "cell_type": "code",
   "execution_count": null,
   "id": "3b2213a2",
   "metadata": {},
   "outputs": [],
   "source": [
    "# Embedding\n",
    "from langchain.embeddings.huggingface import HuggingFaceBgeEmbeddings\n",
    "embedding = HuggingFaceBgeEmbeddings(model_name=\"BAAI/bge-small-en-v1.5\")"
   ]
  },
  {
   "cell_type": "code",
   "execution_count": null,
   "id": "80d469a6",
   "metadata": {},
   "outputs": [],
   "source": [
    "# Vector Store\n",
    "from langchain.vectorstores import Chroma\n",
    "\n",
    "persist_directory = 'docs/chroma'\n",
    "!rmdir /s /q \".\\\\docs\\\\chroma\" # clear out the persist directory\n",
    "\n",
    "vectordb = Chroma.from_documents(\n",
    "    documents=docs,\n",
    "    embedding=embedding,\n",
    "    persist_directory=persist_directory\n",
    ")\n",
    "print(vectordb._collection.count())"
   ]
  },
  {
   "cell_type": "markdown",
   "id": "6af3f09f",
   "metadata": {},
   "source": [
    "## Try Query Expansion"
   ]
  },
  {
   "cell_type": "markdown",
   "id": "ef4da6ff",
   "metadata": {},
   "source": [
    "## Try Cross-encoder re-ranking"
   ]
  },
  {
   "cell_type": "markdown",
   "id": "a0a3dbb6",
   "metadata": {},
   "source": [
    "## Try Embedding adaptors"
   ]
  },
  {
   "cell_type": "markdown",
   "id": "73be229c",
   "metadata": {},
   "source": [
    "## Try Other Techniques"
   ]
  }
 ],
 "metadata": {
  "kernelspec": {
   "display_name": "Python 3",
   "language": "python",
   "name": "python3"
  },
  "language_info": {
   "name": "python",
   "version": "3.12.0"
  }
 },
 "nbformat": 4,
 "nbformat_minor": 5
}
